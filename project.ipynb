{
 "cells": [
  {
   "cell_type": "markdown",
   "metadata": {},
   "source": [
    "# Analisis exploratorio de los datos"
   ]
  },
  {
   "cell_type": "code",
   "execution_count": 3,
   "metadata": {},
   "outputs": [],
   "source": [
    "#Imports necesarios\n",
    "import pandas as pd \n",
    "import numpy as np\n",
    "import seaborn as sns\n",
    "from tools import load_isra"
   ]
  },
  {
   "cell_type": "markdown",
   "metadata": {},
   "source": [
    "Utilizando las funciones anteriores vamos a construir la base de datos a partir de las plantillas:"
   ]
  },
  {
   "cell_type": "code",
   "execution_count": 4,
   "metadata": {},
   "outputs": [],
   "source": [
    "final_df = load_isra(n_examples=15)\n"
   ]
  },
  {
   "cell_type": "markdown",
   "metadata": {},
   "source": [
    "## Caracteristicas de los datos"
   ]
  },
  {
   "cell_type": "code",
   "execution_count": 5,
   "metadata": {},
   "outputs": [
    {
     "name": "stdout",
     "output_type": "stream",
     "text": [
      "(15, 25)\n",
      "              C1         C2         C3         C4         C5         C6  \\\n",
      "count  15.000000  15.000000  15.000000  15.000000  15.000000  15.000000   \n",
      "mean   29.933333  13.800000  10.800000  14.666667  14.466667  26.000000   \n",
      "std     6.922702   6.981608   5.583138   5.727960   6.501282   8.434623   \n",
      "min    17.000000   2.000000   2.000000   7.000000   4.000000  13.000000   \n",
      "25%    26.500000   8.000000   8.000000  12.000000  10.000000  21.000000   \n",
      "50%    30.000000  14.000000  11.000000  13.000000  13.000000  26.000000   \n",
      "75%    33.000000  19.000000  15.000000  19.000000  19.500000  29.500000   \n",
      "max    42.000000  25.000000  20.000000  25.000000  27.000000  40.000000   \n",
      "\n",
      "              C7         F1         F2         F3  ...         F8         F9  \\\n",
      "count  15.000000  15.000000  15.000000  15.000000  ...  15.000000  15.000000   \n",
      "mean   16.066667  19.533333  10.866667  23.666667  ...  10.666667  18.266667   \n",
      "std     7.914423   9.999048   7.199868  15.564000  ...   9.232448  17.846435   \n",
      "min     1.000000   0.000000   1.000000   0.000000  ...   0.000000   0.000000   \n",
      "25%    11.500000  14.000000   3.000000   9.500000  ...   4.000000   6.000000   \n",
      "50%    16.000000  15.000000  12.000000  26.000000  ...   7.000000  14.000000   \n",
      "75%    20.000000  28.000000  16.000000  36.000000  ...  16.500000  24.000000   \n",
      "max    31.000000  38.000000  21.000000  53.000000  ...  27.000000  57.000000   \n",
      "\n",
      "             F10         M1         M2         M3         M4         M5  \\\n",
      "count  15.000000  15.000000  15.000000  15.000000  15.000000  15.000000   \n",
      "mean    7.666667   7.333333  20.400000  30.800000   6.000000  17.200000   \n",
      "std     6.757712   6.354601  11.951091  18.720501   4.259443  10.448513   \n",
      "min     0.000000   0.000000   1.000000   0.000000   1.000000   0.000000   \n",
      "25%     2.000000   0.500000  12.500000  18.000000   3.000000  14.000000   \n",
      "50%     6.000000   7.000000  22.000000  32.000000   5.000000  17.000000   \n",
      "75%    13.500000  11.000000  30.500000  46.500000   7.500000  21.500000   \n",
      "max    21.000000  20.000000  35.000000  54.000000  16.000000  36.000000   \n",
      "\n",
      "             M6         M7  \n",
      "count  15.00000  15.000000  \n",
      "mean   12.40000   6.733333  \n",
      "std    10.55462   5.981718  \n",
      "min     0.00000   0.000000  \n",
      "25%     4.00000   1.500000  \n",
      "50%    10.00000   7.000000  \n",
      "75%    21.00000  10.500000  \n",
      "max    31.00000  19.000000  \n",
      "\n",
      "[8 rows x 24 columns]\n"
     ]
    }
   ],
   "source": [
    "#Caracteristicas\n",
    "\n",
    "print(final_df.shape)\n",
    "\n",
    "print(final_df.describe())"
   ]
  },
  {
   "cell_type": "markdown",
   "metadata": {},
   "source": [
    "# Principal Component Analisis (PCA)\n",
    "\n",
    "Como son muchas las variables (features) en el dataset (24). Considero conveniente realizar un PCA, donde se tomen en cuenta los ejes done haya mayor variabilidad. En este caso yo tome los primeros 2. \n",
    "\n",
    "Despues se puede trabajar en este espacio con un algoritmo supervisado."
   ]
  },
  {
   "cell_type": "code",
   "execution_count": 6,
   "metadata": {},
   "outputs": [
    {
     "name": "stdout",
     "output_type": "stream",
     "text": [
      "(15, 24)\n"
     ]
    }
   ],
   "source": [
    "from sklearn.decomposition import PCA\n",
    "from sklearn.preprocessing import StandardScaler\n",
    "\n",
    "\n",
    "X = final_df.iloc[:,0:24]\n",
    "y = final_df['A-type']\n",
    "scaler = StandardScaler()\n",
    "scaler.fit(X)\n",
    "X_scaled = pd.DataFrame(scaler.transform(X))\n",
    "\n",
    "print(X_scaled.shape)\n",
    "\n",
    "\n"
   ]
  },
  {
   "cell_type": "code",
   "execution_count": 7,
   "metadata": {},
   "outputs": [
    {
     "data": {
      "text/plain": [
       "<Axes: xlabel='PC1', ylabel='PC2'>"
      ]
     },
     "execution_count": 7,
     "metadata": {},
     "output_type": "execute_result"
    },
    {
     "data": {
      "image/png": "[encoded data removed]",
      "text/plain": [
       "<Figure size 640x480 with 1 Axes>"
      ]
     },
     "metadata": {},
     "output_type": "display_data"
    }
   ],
   "source": [
    "pca =PCA(n_components=2)\n",
    "pca.fit(X_scaled)\n",
    "X_pca = pca.transform(X_scaled)\n",
    "X_pca = pd.DataFrame(X_pca, columns=['PC1','PC2'])\n",
    "\n",
    "sns.scatterplot(data=X_pca,x='PC1',y='PC2',hue=y)\n"
   ]
  }
 ],
 "metadata": {
  "kernelspec": {
   "display_name": "isra_env",
   "language": "python",
   "name": "python3"
  },
  "language_info": {
   "codemirror_mode": {
    "name": "ipython",
    "version": 3
   },
   "file_extension": ".py",
   "mimetype": "text/x-python",
   "name": "python",
   "nbconvert_exporter": "python",
   "pygments_lexer": "ipython3",
   "version": "3.12.0"
  }
 },
 "nbformat": 4,
 "nbformat_minor": 2
}
